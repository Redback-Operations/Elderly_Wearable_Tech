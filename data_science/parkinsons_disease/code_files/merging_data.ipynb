{
 "cells": [
  {
   "cell_type": "code",
   "execution_count": 24,
   "id": "e1c31b44-419d-4547-9d26-fec1bceb737d",
   "metadata": {},
   "outputs": [],
   "source": [
    "import os\n",
    "import pandas as pd"
   ]
  },
  {
   "cell_type": "code",
   "execution_count": 23,
   "id": "5c64e683-8a95-4f69-b0ff-a67d969e4e9e",
   "metadata": {},
   "outputs": [
    {
     "name": "stdout",
     "output_type": "stream",
     "text": [
      "All CSV files merged successfully into CSV/PD.csv\n"
     ]
    }
   ],
   "source": [
    "# Constants for folder and output paths\n",
    "FOLDER_PATH = 'CSV/PD'\n",
    "OUTPUT_PATH = 'CSV/PD.csv'\n",
    "\n",
    "PD_subjects = pd.DataFrame()\n",
    "\n",
    "for filename in os.listdir(FOLDER_PATH):\n",
    "    if filename.endswith('.csv'):\n",
    "        file_path = os.path.join(FOLDER_PATH, filename)\n",
    "        data = pd.read_csv(file_path)\n",
    "        PD_subjects = pd.concat([PD_subjects, data], ignore_index=True)\n",
    "\n",
    "PD_subjects.to_csv(OUTPUT_PATH, index=False)\n",
    "print(f\"All CSV files merged successfully into {OUTPUT_PATH}\")\n"
   ]
  }
 ],
 "metadata": {
  "kernelspec": {
   "display_name": "Python 3 (ipykernel)",
   "language": "python",
   "name": "python3"
  },
  "language_info": {
   "codemirror_mode": {
    "name": "ipython",
    "version": 3
   },
   "file_extension": ".py",
   "mimetype": "text/x-python",
   "name": "python",
   "nbconvert_exporter": "python",
   "pygments_lexer": "ipython3",
   "version": "3.12.2"
  }
 },
 "nbformat": 4,
 "nbformat_minor": 5
}
