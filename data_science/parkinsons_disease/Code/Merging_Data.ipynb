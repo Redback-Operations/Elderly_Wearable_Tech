{
 "cells": [
  {
   "cell_type": "code",
   "execution_count": 24,
   "id": "e1c31b44-419d-4547-9d26-fec1bceb737d",
   "metadata": {},
   "outputs": [],
   "source": [
    "import os\n",
    "import pandas as pd"
   ]
  },
  {
   "cell_type": "code",
   "execution_count": 21,
   "id": "4f5943d5-30b4-4623-820b-73b423c249e7",
   "metadata": {},
   "outputs": [],
   "source": [
    "##pip install openpyxl"
   ]
  },
  {
   "cell_type": "code",
   "execution_count": 23,
   "id": "5c64e683-8a95-4f69-b0ff-a67d969e4e9e",
   "metadata": {},
   "outputs": [
    {
     "name": "stdout",
     "output_type": "stream",
     "text": [
      "All CSV files merged successfully into CSV/PD.csv\n"
     ]
    }
   ],
   "source": [
    "# folder path containing the CSV files\n",
    "folder_path = 'CSV/PD'\n",
    "\n",
    "# Initialize an empty DataFrame to store all the data\n",
    "PD_subjects = pd.DataFrame()\n",
    "\n",
    "# Loop through all the CSV files in the folder\n",
    "for filename in os.listdir(folder_path):\n",
    "    if filename.endswith('.csv'):\n",
    "        file_path = os.path.join(folder_path, filename)\n",
    "        # Read the CSV file\n",
    "        data = pd.read_csv(file_path)\n",
    "        # Append the data to the merged DataFrame\n",
    "        PD_subjects = pd.concat([PD_subjects, data], ignore_index=True)\n",
    "\n",
    "# Export the merged DataFrame to an Excel file\n",
    "output_path = 'CSV/PD.csv'\n",
    "PD_subjects.to_csv(output_path, index=False)\n",
    "print(f\"All CSV files merged successfully into {output_path}\")"
   ]
  }
 ],
 "metadata": {
  "kernelspec": {
   "display_name": "Python 3 (ipykernel)",
   "language": "python",
   "name": "python3"
  },
  "language_info": {
   "codemirror_mode": {
    "name": "ipython",
    "version": 3
   },
   "file_extension": ".py",
   "mimetype": "text/x-python",
   "name": "python",
   "nbconvert_exporter": "python",
   "pygments_lexer": "ipython3",
   "version": "3.12.2"
  }
 },
 "nbformat": 4,
 "nbformat_minor": 5
}
