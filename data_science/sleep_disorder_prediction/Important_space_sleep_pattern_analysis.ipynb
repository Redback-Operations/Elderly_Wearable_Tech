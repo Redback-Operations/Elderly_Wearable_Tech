{
 "cells": [
  {
   "cell_type": "code",
   "execution_count": 1,
   "metadata": {},
   "outputs": [],
   "source": [
    "from sklearn.model_selection import train_test_split, cross_val_score\n",
    "from sklearn.ensemble import RandomForestClassifier, GradientBoostingClassifier\n",
    "from sklearn.svm import SVC\n",
    "from sklearn.metrics import accuracy_score, classification_report\n",
    "import pandas as pd\n",
    "\n",
    "# Load the dataset from an Excel file\n",
    "FILE_PATH = 'Output/Subjects_Separate_Sheets.xlsx'\n",
    "data = pd.read_excel(FILE_PATH, sheet_name=0)\n",
    "\n",
    "# Selected features for predicting the target class\n",
    "selected_features = [\n",
    "    'MedianAbsDev', 'HFD', 'HFD_cardio', 'AVpw', 'meanA1', \n",
    "    'meanArea', 'meanIPAR', 'stdIPAR', 'meanT1', 'meanT2'\n",
    "]\n",
    "\n",
    "# Prepare data by selecting the features (X) and target variable (y)\n",
    "X = data[selected_features].copy()  # Features\n",
    "y = data['Class'].copy()  # Target variable\n",
    "\n",
    "# Split data into 70% training and 30% testing sets\n",
    "X_train, X_test, y_train, y_test = train_test_split(\n",
    "    X, y, test_size=0.3, random_state=42\n",
    ")\n",
    "\n",
    "# Define the machine learning models to be evaluated\n",
    "models = {\n",
    "    'RandomForest': RandomForestClassifier(n_estimators=100, random_state=42),\n",
    "    'SVM': SVC(kernel='linear', random_state=42),\n",
    "    'GradientBoosting': GradientBoostingClassifier(n_estimators=100, random_state=42)\n",
    "}\n",
    "\n",
    "# Train and evaluate each model\n",
    "for model_name, model in models.items():\n",
    "    # Train the model\n",
    "    model.fit(X_train, y_train)\n",
    "    \n",
    "    # Make predictions on the testing set\n",
    "    y_pred = model.predict(X_test)\n",
    "    \n",
    "    # Calculate the model's accuracy\n",
    "    accuracy = accuracy_score(y_test, y_pred)\n",
    "    \n",
    "    # Perform 5-fold cross-validation\n",
    "    cv_scores = cross_val_score(model, X_train, y_train, cv=5)\n",
    "\n",
    "    # Optionally, you can store or log the results here"
   ]
  }
 ],
 "metadata": {
  "kernelspec": {
   "display_name": "Python 3",
   "language": "python",
   "name": "python3"
  },
  "language_info": {
   "codemirror_mode": {
    "name": "ipython",
    "version": 3
   },
   "file_extension": ".py",
   "mimetype": "text/x-python",
   "name": "python",
   "nbconvert_exporter": "python",
   "pygments_lexer": "ipython3",
   "version": "3.9.6"
  }
 },
 "nbformat": 4,
 "nbformat_minor": 2
}
