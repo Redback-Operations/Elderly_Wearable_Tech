{
 "cells": [
  {
   "cell_type": "code",
   "execution_count": 1,
   "id": "3ed0b9f3-90f9-4662-af74-4a6ee0896e5c",
   "metadata": {},
   "outputs": [
    {
     "name": "stdout",
     "output_type": "stream",
     "text": [
      "Prediction (0 means healthy, 1 means disorder): 0\n",
      "Calculated Sleep Metrics:\n",
      "Sleep Latency: 10\n",
      "Sleep Duration: 284\n",
      "Sleep to REM Latency: 110\n",
      "NoREM1%: 5.28169014084507\n",
      "NoREM2%: 57.3943661971831\n",
      "NoREM3%: 21.30281690140845\n",
      "REM%: 16.02112676056338\n",
      "Arousal Index: 4.916201117318436\n"
     ]
    }
   ],
   "source": [
    "from predict import SleepMetricsExtended\n",
    "\n",
    "# Example usage\n",
    "sleep_metrics_extended = SleepMetricsExtended(\"data/sub_10.csv\", \"sleep_disorder_models/disorder_random_forest.pkl\")\n",
    "\n",
    "# Predict with gender, age, and bmi passed in\n",
    "prediction, sleep_metrics = sleep_metrics_extended.predict_sleep_disorder(gender=1, age=77, bmi=25)\n",
    "\n",
    "# Display the prediction and the calculated sleep metrics\n",
    "print(\"Prediction (0 means healthy, 1 means disorder):\", prediction)\n",
    "print(\"Calculated Sleep Metrics:\")\n",
    "print(\"Sleep Latency:\", sleep_metrics[0])\n",
    "print(\"Sleep Duration:\", sleep_metrics[1])\n",
    "print(\"Sleep to REM Latency:\", sleep_metrics[2])\n",
    "print(\"NoREM1%:\", sleep_metrics[3])\n",
    "print(\"NoREM2%:\", sleep_metrics[4])\n",
    "print(\"NoREM3%:\", sleep_metrics[5])\n",
    "print(\"REM%:\", sleep_metrics[6])\n",
    "print(\"Arousal Index:\", sleep_metrics[7])\n"
   ]
  }
 ],
 "metadata": {
  "kernelspec": {
   "display_name": "Python 3 (ipykernel)",
   "language": "python",
   "name": "python3"
  },
  "language_info": {
   "codemirror_mode": {
    "name": "ipython",
    "version": 3
   },
   "file_extension": ".py",
   "mimetype": "text/x-python",
   "name": "python",
   "nbconvert_exporter": "python",
   "pygments_lexer": "ipython3",
   "version": "3.11.8"
  }
 },
 "nbformat": 4,
 "nbformat_minor": 5
}
