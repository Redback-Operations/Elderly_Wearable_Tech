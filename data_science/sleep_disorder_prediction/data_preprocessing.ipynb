{
 "cells": [
  {
   "cell_type": "code",
   "execution_count": 52,
   "id": "e6cfefe8-4475-43cc-b1d3-18f788994aed",
   "metadata": {},
   "outputs": [],
   "source": [
    "import numpy as np\n",
    "dta = np.load('/Users/jasper/Downloads/ichi14_dataset/data/p003.npy').view(np.recarray)"
   ]
  },
  {
   "cell_type": "code",
   "execution_count": 53,
   "id": "341a3388-561f-44e6-a813-490930ad3183",
   "metadata": {},
   "outputs": [],
   "source": [
    "import csv\n",
    "# Specify the CSV file path\n",
    "csv_file = 'data3.csv'\n",
    "\n",
    "# Write the NumPy array to CSV file\n",
    "with open(csv_file, 'w', newline='') as csvfile:\n",
    "    writer = csv.writer(csvfile)\n",
    "    # Write each row of the array to the CSV file\n",
    "    for row in dta:\n",
    "        writer.writerow(row)"
   ]
  },
  {
   "cell_type": "code",
   "execution_count": 54,
   "id": "f131cd6f-3acb-4d6c-b989-6d125b74dd27",
   "metadata": {},
   "outputs": [],
   "source": [
    "import pandas as pd\n",
    "data3 = pd.read_csv(\"/Users/jasper/data3.csv\",header = None)"
   ]
  },
  {
   "cell_type": "markdown",
   "id": "b91ea9d6-c58f-4ab8-b0f8-c065322392dd",
   "metadata": {},
   "source": [
    "CALCULATION OF SLEEP LATENCY"
   ]
  },
  {
   "cell_type": "code",
   "execution_count": 55,
   "id": "7bb501d2-db3d-4024-98e5-204fa1bc587a",
   "metadata": {},
   "outputs": [
    {
     "name": "stdout",
     "output_type": "stream",
     "text": [
      "Time difference: 0.041530642891302705 days\n",
      "Time difference: 0 hours, 59 minutes and 48 seconds.\n"
     ]
    }
   ],
   "source": [
    "first_occurrence_index = data3[data3[6] == 6].index.min()\n",
    "timestamp2 = data3.iloc[first_occurrence_index, 0]\n",
    "temp_index = None  # Variable to store the index where 3 is found initially\n",
    "\n",
    "for index, value in enumerate(data3[6]):\n",
    "    if value == 3 and temp_index is None:\n",
    "        temp_index = index\n",
    "    elif value == 6:\n",
    "        temp_index = None\n",
    "    elif value == 2:\n",
    "        break\n",
    "timestamp1 = data3.iloc[temp_index, 0]\n",
    "# Calculate the difference between the timestamps\n",
    "time_difference = timestamp1 - timestamp2\n",
    "\n",
    "print(\"Time difference:\", time_difference, \"days\")\n",
    "# Convert days to hours, minutes, and seconds\n",
    "hours, remainder = divmod(time_difference * 24, 1)\n",
    "minutes, seconds = divmod(remainder * 60, 1)\n",
    "\n",
    "print(\"Time difference:\", int(hours), \"hours,\", int(minutes), \"minutes and\", int(seconds * 60), \"seconds.\")\n"
   ]
  },
  {
   "cell_type": "markdown",
   "id": "e20a72ba-ef26-48a0-ba67-2bc3db331fc6",
   "metadata": {},
   "source": [
    "CALCULATION OF SLEEP DURATION"
   ]
  },
  {
   "cell_type": "code",
   "execution_count": 56,
   "id": "c58c0927-80dc-4f49-8131-687630970f5b",
   "metadata": {},
   "outputs": [
    {
     "name": "stdout",
     "output_type": "stream",
     "text": [
      "Total time: 0.20803720748517662\n",
      "Time difference: 4 hours, 59 minutes and 34 seconds.\n"
     ]
    }
   ],
   "source": [
    "\n",
    "\n",
    "total_time = 0\n",
    "\n",
    "index = 0  # Initialize index outside the loop\n",
    "while index < len(data3[6]):  # Iterate over the column\n",
    "    start_time = None\n",
    "    end_time = None\n",
    "    if data3[6][index] in [1, 2, 3, 5]:  # Check if value is 1, 2, 3, or 5\n",
    "        start_time = data3.iloc[index, 0]  # Assign start time (assuming time is in the first column)\n",
    "        # Continue iteration until encountering a different number or reaching the end of the column\n",
    "        while index < len(data3[6]) and data3[6][index] in [1, 2, 3, 5]:\n",
    "            index += 1\n",
    "        end_index = index - 1  # Store end index\n",
    "        if start_time is not None and end_index >= 0:\n",
    "            end_time = data3.iloc[end_index, 0]  # Get the time from the first column\n",
    "            total_time += end_time - start_time  # Add difference to total time\n",
    "    index += 1  # Move to the next index after the inner loop\n",
    "\n",
    "# Output the total time\n",
    "print(\"Total time:\", total_time)\n",
    "\n",
    "# Convert total_time to hours, minutes, and seconds\n",
    "hours, remainder = divmod(total_time * 24, 1)\n",
    "minutes, seconds = divmod(remainder * 60, 1)\n",
    "\n",
    "print(\"Time difference:\", int(hours), \"hours,\", int(minutes), \"minutes and\", int(seconds * 60), \"seconds.\")\n",
    "\n"
   ]
  },
  {
   "cell_type": "markdown",
   "id": "aafbafa5-f150-421c-9a15-1ead129bd1ab",
   "metadata": {},
   "source": [
    "LATENCY START SLEEP TO REM CALCULATION"
   ]
  },
  {
   "cell_type": "code",
   "execution_count": 57,
   "id": "ba1c277d-afc2-4538-a74f-d9840a3db8d7",
   "metadata": {},
   "outputs": [
    {
     "name": "stdout",
     "output_type": "stream",
     "text": [
      "Time difference: 0.007280097575858235 days\n",
      "Time difference: 0 hours, 10 minutes and 29 seconds.\n"
     ]
    }
   ],
   "source": [
    "first_occurrence_index = data3[data3[6] == 3].index.min()\n",
    "timestamp2 = data3.iloc[first_occurrence_index, 0]\n",
    "first_occurrence_index = data3[data3[6] == 5].index.min()\n",
    "timestamp1 = data3.iloc[first_occurrence_index, 0]\n",
    "time_difference = timestamp1 - timestamp2\n",
    "\n",
    "print(\"Time difference:\", time_difference, \"days\")\n",
    "# Convert days to hours, minutes, and seconds\n",
    "hours, remainder = divmod(time_difference * 24, 1)\n",
    "minutes, seconds = divmod(remainder * 60, 1)\n",
    "\n",
    "print(\"Time difference:\", int(hours), \"hours,\", int(minutes), \"minutes and\", int(seconds * 60), \"seconds.\")\n"
   ]
  },
  {
   "cell_type": "markdown",
   "id": "20b969d9-7090-43c0-8cdc-e97f20ff664e",
   "metadata": {},
   "source": [
    "CALCULATION OF NOREM AND REM%"
   ]
  },
  {
   "cell_type": "code",
   "execution_count": 58,
   "id": "82b1874d-5e33-498f-a6c2-f6c29a721105",
   "metadata": {},
   "outputs": [
    {
     "name": "stdout",
     "output_type": "stream",
     "text": [
      "Total time NoREM 3: 0\n",
      "Time difference: 0 hours, 0 minutes and 0 seconds.\n"
     ]
    }
   ],
   "source": [
    "total_time_1 = 0\n",
    "\n",
    "index = 0  # Initialize index outside the loop\n",
    "while index < len(data3[6]):  # Iterate over the column\n",
    "    start_time = None\n",
    "    end_time = None\n",
    "    if data3[6][index] in [1]:  # Check if value is 1, 2, 3, or 5\n",
    "        start_time = data3.iloc[index, 0]  # Assign start time (assuming time is in the first column)\n",
    "        # Continue iteration until encountering a different number or reaching the end of the column\n",
    "        while index < len(data3[6]) and data3[6][index] in [1]:\n",
    "            index += 1\n",
    "        end_index = index - 1  # Store end index\n",
    "        if start_time is not None and end_index >= 0:\n",
    "            end_time = data3.iloc[end_index, 0]  # Get the time from the first column\n",
    "            total_time_1 += end_time - start_time  # Add difference to total time\n",
    "    index += 1  # Move to the next index after the inner loop\n",
    "\n",
    "# Output the total time\n",
    "print(\"Total time NoREM 3:\", total_time_1)\n",
    "\n",
    "# Convert total_time to hours, minutes, and seconds\n",
    "hours, remainder = divmod(total_time_1 * 24, 1)\n",
    "minutes, seconds = divmod(remainder * 60, 1)\n",
    "\n",
    "print(\"Time difference:\", int(hours), \"hours,\", int(minutes), \"minutes and\", int(seconds * 60), \"seconds.\")\n"
   ]
  },
  {
   "cell_type": "code",
   "execution_count": 59,
   "id": "9c6ff37c-bfcc-4df3-b20b-2c2a01e66c12",
   "metadata": {},
   "outputs": [
    {
     "name": "stdout",
     "output_type": "stream",
     "text": [
      "Total time NoREM 2: 0.15976212651003152\n",
      "Time difference: 3 hours, 50 minutes and 3 seconds.\n"
     ]
    }
   ],
   "source": [
    "total_time_2 = 0\n",
    "\n",
    "index = 0  # Initialize index outside the loop\n",
    "while index < len(data3[6]):  # Iterate over the column\n",
    "    start_time = None\n",
    "    end_time = None\n",
    "    if data3[6][index] in [2]:  # Check if value is 1, 2, 3, or 5\n",
    "        start_time = data3.iloc[index, 0]  # Assign start time (assuming time is in the first column)\n",
    "        # Continue iteration until encountering a different number or reaching the end of the column\n",
    "        while index < len(data3[6]) and data3[6][index] in [2]:\n",
    "            index += 1\n",
    "        end_index = index - 1  # Store end index\n",
    "        if start_time is not None and end_index >= 0:\n",
    "            end_time = data3.iloc[end_index, 0]  # Get the time from the first column\n",
    "            total_time_2 += end_time - start_time  # Add difference to total time\n",
    "    index += 1  # Move to the next index after the inner loop\n",
    "\n",
    "# Output the total time\n",
    "print(\"Total time NoREM 2:\", total_time_2)\n",
    "\n",
    "# Convert total_time to hours, minutes, and seconds\n",
    "hours, remainder = divmod(total_time_2 * 24, 1)\n",
    "minutes, seconds = divmod(remainder * 60, 1)\n",
    "\n",
    "print(\"Time difference:\", int(hours), \"hours,\", int(minutes), \"minutes and\", int(seconds * 60), \"seconds.\")\n",
    "\n"
   ]
  },
  {
   "cell_type": "code",
   "execution_count": 60,
   "id": "a3054e81-bbf7-4072-a1df-04ba96ebba86",
   "metadata": {},
   "outputs": [
    {
     "name": "stdout",
     "output_type": "stream",
     "text": [
      "Total time NoREM 1: 0.0341881652129814\n",
      "Time difference: 0 hours, 49 minutes and 13 seconds.\n"
     ]
    }
   ],
   "source": [
    "total_time_3 = 0\n",
    "\n",
    "index = 0  # Initialize index outside the loop\n",
    "while index < len(data3[6]):  # Iterate over the column\n",
    "    start_time = None\n",
    "    end_time = None\n",
    "    if data3[6][index] in [3]:  # Check if value is 1, 2, 3, or 5\n",
    "        start_time = data3.iloc[index, 0]  # Assign start time (assuming time is in the first column)\n",
    "        # Continue iteration until encountering a different number or reaching the end of the column\n",
    "        while index < len(data3[6]) and data3[6][index] in [3]:\n",
    "            index += 1\n",
    "        end_index = index - 1  # Store end index\n",
    "        if start_time is not None and end_index >= 0:\n",
    "            end_time = data3.iloc[end_index, 0]  # Get the time from the first column\n",
    "            total_time_3 += end_time - start_time  # Add difference to total time\n",
    "    index += 1  # Move to the next index after the inner loop\n",
    "\n",
    "# Output the total time\n",
    "print(\"Total time NoREM 1:\", total_time_3)\n",
    "\n",
    "# Convert total_time to hours, minutes, and seconds\n",
    "hours, remainder = divmod(total_time_3 * 24, 1)\n",
    "minutes, seconds = divmod(remainder * 60, 1)\n",
    "\n",
    "print(\"Time difference:\", int(hours), \"hours,\", int(minutes), \"minutes and\", int(seconds * 60), \"seconds.\")\n",
    "\n",
    "\n"
   ]
  },
  {
   "cell_type": "code",
   "execution_count": 61,
   "id": "6c74bff0-f763-440b-91a5-a709d10c1e15",
   "metadata": {},
   "outputs": [
    {
     "name": "stdout",
     "output_type": "stream",
     "text": [
      "Total time NoREM 1: 0.0341881652129814\n",
      "Time difference: 0 hours, 19 minutes and 20 seconds.\n"
     ]
    }
   ],
   "source": [
    "total_time_5 = 0\n",
    "\n",
    "index = 0  # Initialize index outside the loop\n",
    "while index < len(data3[6]):  # Iterate over the column\n",
    "    start_time = None\n",
    "    end_time = None\n",
    "    if data3[6][index] in [5]:  # Check if value is 1, 2, 3, or 5\n",
    "        start_time = data3.iloc[index, 0]  # Assign start time (assuming time is in the first column)\n",
    "        # Continue iteration until encountering a different number or reaching the end of the column\n",
    "        while index < len(data3[6]) and data3[6][index] in [5]:\n",
    "            index += 1\n",
    "        end_index = index - 1  # Store end index\n",
    "        if start_time is not None and end_index >= 0:\n",
    "            end_time = data3.iloc[end_index, 0]  # Get the time from the first column\n",
    "            total_time_5 += end_time - start_time  # Add difference to total time\n",
    "    index += 1  # Move to the next index after the inner loop\n",
    "\n",
    "# Output the total time\n",
    "print(\"Total time NoREM 1:\", total_time_3)\n",
    "\n",
    "# Convert total_time to hours, minutes, and seconds\n",
    "hours, remainder = divmod(total_time_5 * 24, 1)\n",
    "minutes, seconds = divmod(remainder * 60, 1)\n",
    "\n",
    "print(\"Time difference:\", int(hours), \"hours,\", int(minutes), \"minutes and\", int(seconds * 60), \"seconds.\")\n",
    "\n"
   ]
  },
  {
   "cell_type": "code",
   "execution_count": 62,
   "id": "9dcd92a7-9e88-4b86-97e9-4c2de4e657b0",
   "metadata": {},
   "outputs": [
    {
     "name": "stdout",
     "output_type": "stream",
     "text": [
      "0.0\n"
     ]
    }
   ],
   "source": [
    "print(total_time_1/(total_time_1 + total_time_2 + total_time_3 + total_time_5))"
   ]
  },
  {
   "cell_type": "code",
   "execution_count": 63,
   "id": "e31d0cf2-4d04-4a59-bae0-a3b73e8b5af2",
   "metadata": {},
   "outputs": [
    {
     "name": "stdout",
     "output_type": "stream",
     "text": [
      "0.7703902422683948\n"
     ]
    }
   ],
   "source": [
    "print(total_time_2/(total_time_1 + total_time_2 + total_time_3 + total_time_5))"
   ]
  },
  {
   "cell_type": "code",
   "execution_count": 64,
   "id": "8c06bdd6-60cb-4946-a3d2-f95e8350bbb0",
   "metadata": {},
   "outputs": [
    {
     "name": "stdout",
     "output_type": "stream",
     "text": [
      "0.16485902795921323\n"
     ]
    }
   ],
   "source": [
    "print(total_time_3/(total_time_1 + total_time_2 + total_time_3 + total_time_5))"
   ]
  },
  {
   "cell_type": "code",
   "execution_count": 65,
   "id": "4c46ca79-0ea4-48be-9889-17ffd3f936ef",
   "metadata": {},
   "outputs": [
    {
     "name": "stdout",
     "output_type": "stream",
     "text": [
      "0.064750729772392\n"
     ]
    }
   ],
   "source": [
    "print(total_time_5/(total_time_1 + total_time_2 + total_time_3 + total_time_5))"
   ]
  },
  {
   "cell_type": "markdown",
   "id": "cd48d0dc-e4c2-4354-a649-0e0b9cf67e93",
   "metadata": {},
   "source": [
    "TRANSITIONS TO WAKE"
   ]
  },
  {
   "cell_type": "code",
   "execution_count": 66,
   "id": "1c0358eb-61bb-4e0b-a0e0-24a07ba234b1",
   "metadata": {},
   "outputs": [
    {
     "name": "stdout",
     "output_type": "stream",
     "text": [
      "Output: 8\n"
     ]
    }
   ],
   "source": [
    "series_count = 0\n",
    "previous_value = None\n",
    "current_count = 0\n",
    "\n",
    "# Iterate through the column data\n",
    "for value in data3[6]:\n",
    "    if value == previous_value:\n",
    "        current_count += 1\n",
    "    else:\n",
    "        if previous_value in [6] and current_count >= 5:\n",
    "            series_count += 1\n",
    "        current_count = 1\n",
    "        previous_value = value\n",
    "\n",
    "# Check for the last series\n",
    "if previous_value in [6] and current_count >= 5:\n",
    "    series_count += 1\n",
    "\n",
    "print(\"Output:\", series_count)"
   ]
  },
  {
   "cell_type": "code",
   "execution_count": null,
   "id": "59cfd1bc-171a-4c5f-8ff6-4e98a12d9a2c",
   "metadata": {},
   "outputs": [],
   "source": []
  },
  {
   "cell_type": "code",
   "execution_count": null,
   "id": "81355afe-4b6f-4be3-bb9b-d3ff946ee2ee",
   "metadata": {},
   "outputs": [],
   "source": []
  }
 ],
 "metadata": {
  "kernelspec": {
   "display_name": "Python 3 (ipykernel)",
   "language": "python",
   "name": "python3"
  },
  "language_info": {
   "codemirror_mode": {
    "name": "ipython",
    "version": 3
   },
   "file_extension": ".py",
   "mimetype": "text/x-python",
   "name": "python",
   "nbconvert_exporter": "python",
   "pygments_lexer": "ipython3",
   "version": "3.11.7"
  }
 },
 "nbformat": 4,
 "nbformat_minor": 5
}
