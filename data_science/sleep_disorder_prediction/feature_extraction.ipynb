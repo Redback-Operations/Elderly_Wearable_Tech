{
 "cells": [
  {
   "cell_type": "markdown",
   "id": "02e76371-a371-4343-9c5e-dcc37299df0b",
   "metadata": {},
   "source": [
    "This script aims to extract features out of raw ppg signal that would be useful in analysis of sleep stage of individuals."
   ]
  },
  {
   "cell_type": "code",
   "execution_count": 1,
   "id": "e4e06b90-4835-4e6c-8cc9-ddd1f5089e3a",
   "metadata": {},
   "outputs": [
    {
     "name": "stdout",
     "output_type": "stream",
     "text": [
      "AVppAmp: 0.13136363636363635\n",
      "SDppAmp: 0.0642647545524446\n",
      "SDSDppAmp: 0.08431664753863376\n",
      "RMSSDppAmp: 0.08431799220524533\n",
      "MaxppAmp: 0.2\n",
      "MinppAmp: 0.02\n",
      "MedianppAmp: 0.16\n",
      "SkewppAmp: -0.9324742935997988\n",
      "KurtosisppAmp: -0.9447659217222029\n",
      "MADppAmp: 0.022239033277584027\n",
      "IQRppAmp: 0.10250000000000001\n",
      "AVpw: 0.038181818181818185\n",
      "SDpw: 0.024240530229042517\n",
      "SDSDpw: 0.03927922024247864\n",
      "RMSSDpw: 0.03927922024247864\n",
      "Maxpw: 0.08\n",
      "Minpw: 0.01\n",
      "Medianpw: 0.035\n",
      "Skewpw: 0.2892631058920915\n",
      "Kurtosispw: -1.480460752372305\n",
      "MADpw: 0.03706505546264004\n",
      "IQRpw: 0.039999999999999994\n",
      "meanA1: 7011.306666666667\n",
      "meanA2: 6982.580000000001\n",
      "meanArea: 6996.9433333333345\n",
      "stdArea: 14.36333333333323\n",
      "MeanIPAR: 1.0041140476251853\n",
      "StdIPAR: 0.0\n",
      "meanT1: 0.141\n",
      "stdT1: 0.056471231613982\n",
      "meanT2: 0.11636363636363636\n",
      "stdT2: 0.0679936798229642\n",
      "meanIPTR: 1.21171875\n",
      "stdIPTR: 0.8305364816408921\n",
      "HjorthActivity: 12626.312054675003\n",
      "HjorthMobility: 0.2253020416436674\n",
      "HjorthComplexity: 1.026687792370026\n",
      "PoincareSD1: 0.05962087324148395\n",
      "PoincareSD2: 0.06859496212765774\n",
      "HurstExp: 0.8555092853215438\n",
      "DFAAlpha: 1.5820169270721203\n",
      "LyapunovExp: -0.021424512619446924\n",
      "HFD: -0.09111255520914496\n",
      "HFD_cardio: -1.2374012298245791\n",
      "TotalPower: 109409088755200.0\n",
      "LFPower: 0.0\n",
      "HFPower: 102697519.4905724\n",
      "LFHFRatio: 0.0\n"
     ]
    },
    {
     "name": "stderr",
     "output_type": "stream",
     "text": [
      "/Users/jasper/Desktop/anaconda3/lib/python3.11/site-packages/nolds/measures.py:249: ComplexWarning: Casting complex values to real discards the imaginary part\n",
      "  min_tsep = int((1.0 / mf))\n",
      "/Users/jasper/Desktop/anaconda3/lib/python3.11/site-packages/nolds/measures.py:253: RuntimeWarning: signal has very low mean frequency, setting min_tsep = 74\n",
      "  warnings.warn(msg.format(min_tsep), RuntimeWarning)\n",
      "/Users/jasper/Desktop/anaconda3/lib/python3.11/site-packages/nolds/measures.py:282: RuntimeWarning: autocorrelation declined too slowly to find suitable lag, setting lag to 23\n",
      "  warnings.warn(msg.format(lag), RuntimeWarning)\n"
     ]
    }
   ],
   "source": [
    "# Import necessary libraries\n",
    "import pandas as pd\n",
    "from feature_extraction import PPGFeatureExtractor  \n",
    "\n",
    "# Read the CSV file\n",
    "data = pd.read_csv(\"data/test8.csv\", header=None)\n",
    "\n",
    "# Extract the relevant portion of the data\n",
    "data_1 = data[0][0:299]\n",
    "\n",
    "# Initialize the PPGFeatureExtractor with the data\n",
    "sampling_rate = 100  \n",
    "ppg_extractor = PPGFeatureExtractor(ppg_signal=data_1, sampling_rate=sampling_rate)\n",
    "\n",
    "# Extract features\n",
    "features = ppg_extractor.extract_features()\n",
    "\n",
    "# Display the extracted features\n",
    "for feature_name, value in features.items():\n",
    "    print(f\"{feature_name}: {value}\")\n"
   ]
  }
 ],
 "metadata": {
  "kernelspec": {
   "display_name": "Python 3 (ipykernel)",
   "language": "python",
   "name": "python3"
  },
  "language_info": {
   "codemirror_mode": {
    "name": "ipython",
    "version": 3
   },
   "file_extension": ".py",
   "mimetype": "text/x-python",
   "name": "python",
   "nbconvert_exporter": "python",
   "pygments_lexer": "ipython3",
   "version": "3.11.8"
  }
 },
 "nbformat": 4,
 "nbformat_minor": 5
}
